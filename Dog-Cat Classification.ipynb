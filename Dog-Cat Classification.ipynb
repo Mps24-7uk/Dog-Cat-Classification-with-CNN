{
 "cells": [
  {
   "cell_type": "code",
   "execution_count": 1,
   "metadata": {},
   "outputs": [
    {
     "name": "stderr",
     "output_type": "stream",
     "text": [
      "Using TensorFlow backend.\n"
     ]
    }
   ],
   "source": [
    "from keras import backend"
   ]
  },
  {
   "cell_type": "markdown",
   "metadata": {},
   "source": [
    "### Part 1 - Building the CNN"
   ]
  },
  {
   "cell_type": "code",
   "execution_count": 2,
   "metadata": {
    "collapsed": true
   },
   "outputs": [],
   "source": [
    "# Importing the Keras libraries and packages\n",
    "from keras.models import Sequential\n",
    "from keras.layers import Dense, Dropout, Flatten, Convolution2D, MaxPooling2D\n",
    "from keras.preprocessing.image import ImageDataGenerator"
   ]
  },
  {
   "cell_type": "code",
   "execution_count": 3,
   "metadata": {
    "collapsed": true
   },
   "outputs": [],
   "source": [
    "# Initialising the CNN\n",
    "classifier = Sequential()"
   ]
  },
  {
   "cell_type": "code",
   "execution_count": 4,
   "metadata": {
    "collapsed": true
   },
   "outputs": [],
   "source": [
    "# Step 1 - Convolution\n",
    "classifier.add(Convolution2D(filters=32, kernel_size=(3, 3), input_shape = (64, 64, 3), activation = 'relu'))\n"
   ]
  },
  {
   "cell_type": "code",
   "execution_count": 5,
   "metadata": {
    "collapsed": true
   },
   "outputs": [],
   "source": [
    "# Step 2 - Pooling\n",
    "classifier.add(MaxPooling2D(pool_size = (2, 2)))\n"
   ]
  },
  {
   "cell_type": "code",
   "execution_count": 6,
   "metadata": {
    "collapsed": true
   },
   "outputs": [],
   "source": [
    "\n",
    "# Adding a second convolutional layer\n",
    "classifier.add(Convolution2D(filters=32, kernel_size=(3, 3), activation = 'relu'))\n",
    "classifier.add(MaxPooling2D(pool_size = (2, 2)))\n"
   ]
  },
  {
   "cell_type": "code",
   "execution_count": 7,
   "metadata": {
    "collapsed": true
   },
   "outputs": [],
   "source": [
    "classifier.add(Dropout(0.25))"
   ]
  },
  {
   "cell_type": "code",
   "execution_count": 8,
   "metadata": {
    "collapsed": true
   },
   "outputs": [],
   "source": [
    "# Step 3 - Flattening\n",
    "classifier.add(Flatten())\n"
   ]
  },
  {
   "cell_type": "code",
   "execution_count": 9,
   "metadata": {
    "collapsed": true
   },
   "outputs": [],
   "source": [
    "# Step 4 - Full connection\n",
    "classifier.add(Dense(128, activation = 'relu'))\n",
    "classifier.add(Dropout(0.5))\n",
    "classifier.add(Dense(1, activation = 'sigmoid'))\n"
   ]
  },
  {
   "cell_type": "code",
   "execution_count": 10,
   "metadata": {
    "collapsed": true
   },
   "outputs": [],
   "source": [
    "\n",
    "# Compiling the CNN\n",
    "classifier.compile(optimizer = 'adam', loss = 'binary_crossentropy', metrics = ['accuracy'])\n"
   ]
  },
  {
   "cell_type": "markdown",
   "metadata": {},
   "source": [
    "### Part 2 - Fitting the CNN to the images"
   ]
  },
  {
   "cell_type": "code",
   "execution_count": 11,
   "metadata": {
    "collapsed": true
   },
   "outputs": [],
   "source": [
    "#Image Preprocessing\n",
    "train_datagen = ImageDataGenerator(rescale = 1./255,\n",
    "                                   shear_range = 0.2,\n",
    "                                   zoom_range = 0.2,\n",
    "                                   horizontal_flip = True)\n"
   ]
  },
  {
   "cell_type": "code",
   "execution_count": 12,
   "metadata": {
    "collapsed": true
   },
   "outputs": [],
   "source": [
    "test_datagen = ImageDataGenerator(rescale = 1./255)\n"
   ]
  },
  {
   "cell_type": "code",
   "execution_count": 13,
   "metadata": {},
   "outputs": [
    {
     "name": "stdout",
     "output_type": "stream",
     "text": [
      "Found 8000 images belonging to 2 classes.\n"
     ]
    }
   ],
   "source": [
    "training_set = train_datagen.flow_from_directory('Convolutional_Neural_Networks/dataset/training_set',\n",
    "                                                 target_size = (64, 64),\n",
    "                                                 batch_size = 32,\n",
    "                                                 class_mode = 'binary')"
   ]
  },
  {
   "cell_type": "code",
   "execution_count": 14,
   "metadata": {},
   "outputs": [
    {
     "name": "stdout",
     "output_type": "stream",
     "text": [
      "Found 2000 images belonging to 2 classes.\n"
     ]
    }
   ],
   "source": [
    "test_set = test_datagen.flow_from_directory('Convolutional_Neural_Networks/dataset/test_set',\n",
    "                                            target_size = (64, 64),\n",
    "                                            batch_size = 32,\n",
    "                                            class_mode = 'binary')"
   ]
  },
  {
   "cell_type": "code",
   "execution_count": 15,
   "metadata": {
    "scrolled": true
   },
   "outputs": [
    {
     "name": "stdout",
     "output_type": "stream",
     "text": [
      "Epoch 1/25\n",
      " 250/8000 [..............................] - ETA: 2:25:07 - loss: 0.6767 - acc: 0.5701 - val_loss: 0.0000e+00 - val_acc: 0.0000e+00Epoch 2/25\n",
      " 250/8000 [..............................] - ETA: 1:39:18 - loss: 0.6327 - acc: 0.6478 - val_loss: 0.0000e+00 - val_acc: 0.0000e+00Epoch 3/25\n",
      " 250/8000 [..............................] - ETA: 1:08:44 - loss: 0.6008 - acc: 0.6805 - val_loss: 0.0000e+00 - val_acc: 0.0000e+00Epoch 4/25\n",
      " 250/8000 [..............................] - ETA: 51:42 - loss: 0.5720 - acc: 0.6994 - val_loss: 0.0000e+00 - val_acc: 0.0000e+00Epoch 5/25\n",
      " 250/8000 [..............................] - ETA: 52:32 - loss: 0.5626 - acc: 0.7071 - val_loss: 0.0000e+00 - val_acc: 0.0000e+00Epoch 6/25\n",
      " 250/8000 [..............................] - ETA: 51:55 - loss: 0.5293 - acc: 0.7346 - val_loss: 0.0000e+00 - val_acc: 0.0000e+00Epoch 7/25\n",
      " 250/8000 [..............................] - ETA: 51:50 - loss: 0.5168 - acc: 0.7406 - val_loss: 0.0000e+00 - val_acc: 0.0000e+00Epoch 8/25\n",
      " 250/8000 [..............................] - ETA: 52:00 - loss: 0.5086 - acc: 0.7480 - val_loss: 0.0000e+00 - val_acc: 0.0000e+00Epoch 9/25\n",
      " 250/8000 [..............................] - ETA: 53:05 - loss: 0.4954 - acc: 0.7626 - val_loss: 0.0000e+00 - val_acc: 0.0000e+00Epoch 10/25\n",
      " 250/8000 [..............................] - ETA: 52:05 - loss: 0.4783 - acc: 0.7711 - val_loss: 0.0000e+00 - val_acc: 0.0000e+00Epoch 11/25\n",
      " 250/8000 [..............................] - ETA: 52:09 - loss: 0.4758 - acc: 0.7744 - val_loss: 0.0000e+00 - val_acc: 0.0000e+00Epoch 12/25\n",
      " 250/8000 [..............................] - ETA: 51:35 - loss: 0.4657 - acc: 0.7789 - val_loss: 0.0000e+00 - val_acc: 0.0000e+00Epoch 13/25\n",
      " 250/8000 [..............................] - ETA: 51:33 - loss: 0.4636 - acc: 0.7812 - val_loss: 0.0000e+00 - val_acc: 0.0000e+00Epoch 14/25\n",
      " 250/8000 [..............................] - ETA: 51:19 - loss: 0.4524 - acc: 0.7835 - val_loss: 0.0000e+00 - val_acc: 0.0000e+00Epoch 15/25\n",
      " 250/8000 [..............................] - ETA: 51:39 - loss: 0.4412 - acc: 0.7886 - val_loss: 0.0000e+00 - val_acc: 0.0000e+00Epoch 16/25\n",
      " 250/8000 [..............................] - ETA: 52:45 - loss: 0.4388 - acc: 0.7940 - val_loss: 0.0000e+00 - val_acc: 0.0000e+00Epoch 17/25\n",
      " 250/8000 [..............................] - ETA: 52:07 - loss: 0.4321 - acc: 0.7961 - val_loss: 0.0000e+00 - val_acc: 0.0000e+00Epoch 18/25\n",
      " 250/8000 [..............................] - ETA: 52:09 - loss: 0.4238 - acc: 0.8051 - val_loss: 0.0000e+00 - val_acc: 0.0000e+00Epoch 19/25\n",
      " 250/8000 [..............................] - ETA: 51:31 - loss: 0.4220 - acc: 0.8063 - val_loss: 0.0000e+00 - val_acc: 0.0000e+00Epoch 20/25\n",
      " 250/8000 [..............................] - ETA: 51:47 - loss: 0.4028 - acc: 0.8181 - val_loss: 0.0000e+00 - val_acc: 0.0000e+00Epoch 21/25\n",
      " 250/8000 [..............................] - ETA: 52:17 - loss: 0.4078 - acc: 0.8143 - val_loss: 0.0000e+00 - val_acc: 0.0000e+00Epoch 22/25\n",
      " 250/8000 [..............................] - ETA: 51:50 - loss: 0.4052 - acc: 0.8136 - val_loss: 0.0000e+00 - val_acc: 0.0000e+00Epoch 23/25\n",
      " 250/8000 [..............................] - ETA: 52:00 - loss: 0.3949 - acc: 0.8200 - val_loss: 0.0000e+00 - val_acc: 0.0000e+00Epoch 24/25\n",
      " 250/8000 [..............................] - ETA: 52:09 - loss: 0.3926 - acc: 0.8213 - val_loss: 0.0000e+00 - val_acc: 0.0000e+00Epoch 25/25\n",
      " 250/8000 [..............................] - ETA: 51:33 - loss: 0.3954 - acc: 0.8224 - val_loss: 0.0000e+00 - val_acc: 0.0000e+00"
     ]
    },
    {
     "data": {
      "text/plain": [
       "<keras.callbacks.History at 0xf9b6892710>"
      ]
     },
     "execution_count": 15,
     "metadata": {},
     "output_type": "execute_result"
    }
   ],
   "source": [
    "\n",
    "classifier.fit_generator(training_set,\n",
    "                         steps_per_epoch =training_set.n,\n",
    "                         epochs = 25,\n",
    "                         validation_data = test_set,\n",
    "                      validation_steps= test_set.n)"
   ]
  }
 ],
 "metadata": {
  "kernelspec": {
   "display_name": "Python 3",
   "language": "python",
   "name": "python3"
  },
  "language_info": {
   "codemirror_mode": {
    "name": "ipython",
    "version": 3
   },
   "file_extension": ".py",
   "mimetype": "text/x-python",
   "name": "python",
   "nbconvert_exporter": "python",
   "pygments_lexer": "ipython3",
   "version": "3.5.4"
  }
 },
 "nbformat": 4,
 "nbformat_minor": 2
}
